{
 "cells": [
  {
   "cell_type": "code",
   "execution_count": 1,
   "id": "00acaa75",
   "metadata": {},
   "outputs": [],
   "source": [
    "import ffmpeg #sudo apt-get install ffmpeg\n",
    "\n",
    "import os"
   ]
  },
  {
   "cell_type": "code",
   "execution_count": 2,
   "id": "db804120",
   "metadata": {},
   "outputs": [
    {
     "name": "stdout",
     "output_type": "stream",
     "text": [
      " audio_to_video_maker.ipynb\r\n",
      " \u001b[0m\u001b[01;34mbangla_seerah\u001b[0m/\r\n",
      " \u001b[01;34mbangla_seerah_videobook\u001b[0m/\r\n",
      " \u001b[01;34mbangla_tts\u001b[0m/\r\n",
      "'E2E-Multilingual Speech to Speech Translator.ipynb'\r\n",
      " E2E_Single_Sample_Demo_of_Multilingual_Speech_to_Speech_Translation.ipynb\r\n",
      " e2e_single_sample_demo_of_multilingual_speech_to_speech_translation.py\r\n",
      " \u001b[00;36mempty.wav\u001b[0m\r\n",
      " \u001b[01;34mklaam\u001b[0m/\r\n",
      " LICENSE\r\n",
      " \u001b[01;35mlogoCombined2.png\u001b[0m\r\n",
      " \u001b[01;31mmodel.pth.tar\u001b[0m\r\n",
      " \u001b[01;34m__pycache__\u001b[0m/\r\n",
      " README.md\r\n",
      " \u001b[00;36msample.wav\u001b[0m\r\n",
      " step1_make_youtube_audio_playlist.py\r\n",
      " step2_run_multilingual_stt.py\r\n",
      " step3_crosslingual_translator.py\r\n",
      " step4_multilingual_tts.py\r\n",
      " \u001b[01;34myasir_qadhi_seerah\u001b[0m/\r\n",
      " youtube-playlist-downloader.ipynb\r\n"
     ]
    }
   ],
   "source": [
    "ls"
   ]
  },
  {
   "cell_type": "code",
   "execution_count": 3,
   "id": "81c8fe5e",
   "metadata": {},
   "outputs": [
    {
     "name": "stdout",
     "output_type": "stream",
     "text": [
      "/home/ansary/Shabab/Multilingual_speech_to_speech/bangla_seerah\n"
     ]
    },
    {
     "data": {
      "text/plain": [
       "'bn_ar_Seerah_103___The_1st_Rightful_Khalifah_of_Islam_Part_1_Incidbn_art_of_the_Scrolls__Dr_Yasir_Qadhi.wav'"
      ]
     },
     "execution_count": 3,
     "metadata": {},
     "output_type": "execute_result"
    }
   ],
   "source": [
    "folder_path = os.path.join(os.getcwd() , 'bangla_seerah') \n",
    "print(folder_path)\n",
    "files = sorted(os.listdir(folder_path))\n",
    "files[0]"
   ]
  },
  {
   "cell_type": "code",
   "execution_count": 4,
   "id": "eca61247",
   "metadata": {},
   "outputs": [
    {
     "data": {
      "text/plain": [
       "'bn_ar_Seerah_103___The_1st_Rightful_Khalifah_of_Islam_Part_1_Incidbn_art_of_the_Scrolls__Dr_Yasir_Qadhi'"
      ]
     },
     "execution_count": 4,
     "metadata": {},
     "output_type": "execute_result"
    }
   ],
   "source": [
    "head, output = os.path.split(files[0])\n",
    "fname = output.split(\".\")[0]\n",
    "fname"
   ]
  },
  {
   "cell_type": "code",
   "execution_count": null,
   "id": "77f46b7c",
   "metadata": {},
   "outputs": [
    {
     "name": "stderr",
     "output_type": "stream",
     "text": [
      "ffmpeg version 4.2.7-0ubuntu0.1 Copyright (c) 2000-2022 the FFmpeg developers\n",
      "  built with gcc 9 (Ubuntu 9.4.0-1ubuntu1~20.04.1)\n",
      "  configuration: --prefix=/usr --extra-version=0ubuntu0.1 --toolchain=hardened --libdir=/usr/lib/x86_64-linux-gnu --incdir=/usr/include/x86_64-linux-gnu --arch=amd64 --enable-gpl --disable-stripping --enable-avresample --disable-filter=resample --enable-avisynth --enable-gnutls --enable-ladspa --enable-libaom --enable-libass --enable-libbluray --enable-libbs2b --enable-libcaca --enable-libcdio --enable-libcodec2 --enable-libflite --enable-libfontconfig --enable-libfreetype --enable-libfribidi --enable-libgme --enable-libgsm --enable-libjack --enable-libmp3lame --enable-libmysofa --enable-libopenjpeg --enable-libopenmpt --enable-libopus --enable-libpulse --enable-librsvg --enable-librubberband --enable-libshine --enable-libsnappy --enable-libsoxr --enable-libspeex --enable-libssh --enable-libtheora --enable-libtwolame --enable-libvidstab --enable-libvorbis --enable-libvpx --enable-libwavpack --enable-libwebp --enable-libx265 --enable-libxml2 --enable-libxvid --enable-libzmq --enable-libzvbi --enable-lv2 --enable-omx --enable-openal --enable-opencl --enable-opengl --enable-sdl2 --enable-libdc1394 --enable-libdrm --enable-libiec61883 --enable-nvenc --enable-chromaprint --enable-frei0r --enable-libx264 --enable-shared\n",
      "  libavutil      56. 31.100 / 56. 31.100\n",
      "  libavcodec     58. 54.100 / 58. 54.100\n",
      "  libavformat    58. 29.100 / 58. 29.100\n",
      "  libavdevice    58.  8.100 / 58.  8.100\n",
      "  libavfilter     7. 57.100 /  7. 57.100\n",
      "  libavresample   4.  0.  0 /  4.  0.  0\n",
      "  libswscale      5.  5.100 /  5.  5.100\n",
      "  libswresample   3.  5.100 /  3.  5.100\n",
      "  libpostproc    55.  5.100 / 55.  5.100\n",
      "Input #0, png_pipe, from './logoCombined2.png':\n",
      "  Duration: N/A, bitrate: N/A\n",
      "    Stream #0:0: Video: png, rgb24(pc), 960x540, 25 fps, 25 tbr, 25 tbn, 25 tbc\n",
      "Guessed Channel Layout for Input Stream #1.0 : mono\n",
      "Input #1, wav, from '/home/ansary/Shabab/Multilingual_speech_to_speech/bangla_seerah/bn_ar_Seerah_103___The_1st_Rightful_Khalifah_of_Islam_Part_1_Incidbn_art_of_the_Scrolls__Dr_Yasir_Qadhi.wav':\n",
      "  Duration: 00:32:42.92, bitrate: 352 kb/s\n",
      "    Stream #1:0: Audio: pcm_s16le ([1][0][0][0] / 0x0001), 22050 Hz, mono, s16, 352 kb/s\n",
      "Stream mapping:\n",
      "  Stream #0:0 -> #0:0 (png (native) -> h264 (libx264))\n",
      "  Stream #1:0 -> #0:1 (pcm_s16le (native) -> aac (native))\n",
      "Press [q] to stop, [?] for help\n",
      "[libx264 @ 0x5625ecf16f80] using cpu capabilities: MMX2 SSE2Fast SSSE3 SSE4.2 AVX FMA3 BMI2 AVX2 AVX512\n",
      "[libx264 @ 0x5625ecf16f80] profile High, level 3.1\n",
      "[libx264 @ 0x5625ecf16f80] 264 - core 155 r2917 0a84d98 - H.264/MPEG-4 AVC codec - Copyleft 2003-2018 - http://www.videolan.org/x264.html - options: cabac=1 ref=3 deblock=1:-3:-3 analyse=0x3:0x113 me=hex subme=7 psy=1 psy_rd=2.00:0.70 mixed_ref=1 me_range=16 chroma_me=1 trellis=1 8x8dct=1 cqm=0 deadzone=21,11 fast_pskip=1 chroma_qp_offset=-4 threads=17 lookahead_threads=2 sliced_threads=0 nr=0 decimate=1 interlaced=0 bluray_compat=0 constrained_intra=0 bframes=3 b_pyramid=2 b_adapt=1 b_bias=0 direct=1 weightb=1 open_gop=0 weightp=2 keyint=250 keyint_min=25 scenecut=40 intra_refresh=0 rc_lookahead=40 rc=crf mbtree=1 crf=23.0 qcomp=0.60 qpmin=0 qpmax=69 qpstep=4 ip_ratio=1.40 aq=1:1.20\n",
      "[aac @ 0x5625ecf18400] Too many bits 8916.462585 > 6144 per frame requested, clamping to max\n",
      "Output #0, mp4, to './bangla_seerah_videobook/bn_ar_Seerah_103___The_1st_Rightful_Khalifah_of_Islam_Part_1_Incidbn_art_of_the_Scrolls__Dr_Yasir_Qadhi.mp4':\n",
      "  Metadata:\n",
      "    encoder         : Lavf58.29.100\n",
      "    Stream #0:0: Video: h264 (libx264) (avc1 / 0x31637661), yuv420p(progressive), 960x540, q=-1--1, 25 fps, 12800 tbn, 25 tbc\n",
      "    Metadata:\n",
      "      encoder         : Lavc58.54.100 libx264\n",
      "    Side data:\n",
      "      cpb: bitrate max/min/avg: 0/0/0 buffer size: 0 vbv_delay: -1\n",
      "    Stream #0:1: Audio: aac (LC) (mp4a / 0x6134706D), 22050 Hz, mono, fltp, 132 kb/s\n",
      "    Metadata:\n",
      "      encoder         : Lavc58.54.100 aac\n",
      "frame= 7482 fps=244 q=28.0 size=    4864kB time=00:04:56.75 bitrate= 134.3kbits/s speed=9.69x    \r"
     ]
    }
   ],
   "source": [
    "%%time\n",
    "# a big thanks to https://superuser.com/questions/1041816/combine-one-image-one-audio-file-to-make-one-video-using-ffmpeg\n",
    "path = \"bangla_seerah_videobook\"\n",
    "isExist = os.path.exists(path)\n",
    "if not isExist:\n",
    "    os.makedirs(path)\n",
    "            \n",
    "for i in range(len(files)):\n",
    "    fpath = folder_path+'/'+files[i] #f'./tafsir_bayan/{i}.wav'\n",
    "    \n",
    "    head, output = os.path.split(files[i])\n",
    "    fname = output.split(\".\")[0]\n",
    "\n",
    "    out_fname = f'./bangla_seerah_videobook/{fname}.mp4'\n",
    "    cmd = f'ffmpeg -loop 1 -i ./logoCombined2.png -i {fpath} -c:v libx264 -tune stillimage -c:a aac -b:a 192k -pix_fmt yuv420p -shortest {out_fname}'\n",
    "    os.system(cmd)\n"
   ]
  },
  {
   "cell_type": "code",
   "execution_count": null,
   "id": "742d9aad",
   "metadata": {},
   "outputs": [],
   "source": []
  }
 ],
 "metadata": {
  "kernelspec": {
   "display_name": "Python 3 (ipykernel)",
   "language": "python",
   "name": "python3"
  },
  "language_info": {
   "codemirror_mode": {
    "name": "ipython",
    "version": 3
   },
   "file_extension": ".py",
   "mimetype": "text/x-python",
   "name": "python",
   "nbconvert_exporter": "python",
   "pygments_lexer": "ipython3",
   "version": "3.8.13"
  }
 },
 "nbformat": 4,
 "nbformat_minor": 5
}
